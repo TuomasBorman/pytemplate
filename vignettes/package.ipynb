{
 "cells": [
  {
   "cell_type": "markdown",
   "id": "351e3215",
   "metadata": {},
   "source": [
    "# Package demo\n",
    "\n",
    "Add here package demo."
   ]
  },
  {
   "cell_type": "code",
   "execution_count": null,
   "id": "bde16b88",
   "metadata": {},
   "outputs": [],
   "source": [
    "print(1)"
   ]
  }
 ],
 "metadata": {
  "kernelspec": {
   "display_name": "Python 3 (ipykernel)",
   "language": "python",
   "name": "python3"
  },
  "language_info": {
   "codemirror_mode": {
    "name": "ipython",
    "version": 3
   },
   "file_extension": ".py",
   "mimetype": "text/x-python",
   "name": "python",
   "nbconvert_exporter": "python",
   "pygments_lexer": "ipython3",
   "version": "3.9.15"
  }
 },
 "nbformat": 4,
 "nbformat_minor": 5
}
